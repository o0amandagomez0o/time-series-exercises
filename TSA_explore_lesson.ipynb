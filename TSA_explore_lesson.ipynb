{
 "cells": [
  {
   "cell_type": "markdown",
   "metadata": {},
   "source": [
    "## Time Series EDA\n",
    "- Single continuous variable over (uniformly distributed) time\n",
    "- Understand temporal behavior of data: trend and seasonality, cycle\n",
    "- Identify underlying distribution and nature of temporal processes producing data\n",
    "\n",
    "#### Setup\n",
    "°F = (K - 273.15) x 1.8000 + 32.00"
   ]
  },
  {
   "cell_type": "code",
   "execution_count": null,
   "metadata": {},
   "outputs": [],
   "source": [
    "import numpy as np\n",
    "import pandas as pd\n",
    "import matplotlib.pyplot as plt\n",
    "import seaborn as sns\n",
    "import statsmodels.api as sm\n",
    "\n",
    "# plotting defaults\n",
    "plt.rc('figure', figsize=(13, 7))\n",
    "plt.style.use('seaborn-whitegrid')\n",
    "plt.rc('font', size=16)"
   ]
  },
  {
   "cell_type": "code",
   "execution_count": null,
   "metadata": {},
   "outputs": [],
   "source": [
    "# read csv file. Specify 'datetime' column as index column, parse dates and sort index\n",
    "\n",
    "df = pd.read_csv('sa_temps.csv', index_col='datetime', parse_dates=True).sort_index()\n",
    "df.temp = (df.temp - 273.15) * 1.8 + 32\n",
    "\n",
    "print('Date Range:', df.index.min(), 'to', df.index.max())\n",
    "print('Shape:', df.shape)"
   ]
  },
  {
   "cell_type": "code",
   "execution_count": null,
   "metadata": {},
   "outputs": [],
   "source": [
    "df.head()"
   ]
  },
  {
   "cell_type": "markdown",
   "metadata": {},
   "source": [
    "- **seasonality**: a repeated cycle in the data. Occurs at a fixed frequency. In our weather data there is yearly and daily seasonality  \n",
    "    - Quite common in economic time series. It is less common in engineering and scientific data.\n",
    "    - Can help us understand underlying dynamics\n",
    "\n",
    "\n",
    "- **trend**: long term upwards or downwards movement  \n",
    "- **cycle**: Some arbitrary chunk of time, usually longer than a season, or consists of multiple seasons"
   ]
  },
  {
   "cell_type": "markdown",
   "metadata": {},
   "source": [
    "### Data Splitting\n",
    "\n",
    "- Ideally all splits contain a season\n",
    "- Human-based\n",
    "- Percentage based\n",
    "- Cross Validation"
   ]
  },
  {
   "cell_type": "markdown",
   "metadata": {},
   "source": [
    "### Percentage-Based"
   ]
  },
  {
   "cell_type": "code",
   "execution_count": null,
   "metadata": {},
   "outputs": [],
   "source": [
    "# check shape of data\n",
    "df.shape"
   ]
  },
  {
   "cell_type": "code",
   "execution_count": null,
   "metadata": {},
   "outputs": [],
   "source": [
    "# Lets use 70/30 train test split %\n",
    "\n",
    "train_size = .70\n",
    "n = df.shape[0]\n",
    "test_start_index = round(train_size * n)\n",
    "test_start_index"
   ]
  },
  {
   "cell_type": "code",
   "execution_count": null,
   "metadata": {},
   "outputs": [],
   "source": [
    "# create train and test dataframe\n",
    "\n",
    "train = df[:test_start_index] # everything up (not including) to the test_start_index\n",
    "test = df[test_start_index:] # everything from the test_start_index to the end"
   ]
  },
  {
   "cell_type": "code",
   "execution_count": null,
   "metadata": {},
   "outputs": [],
   "source": [
    "# lets plot train and test\n",
    "\n"
   ]
  },
  {
   "cell_type": "markdown",
   "metadata": {},
   "source": [
    "### Human-Based"
   ]
  },
  {
   "cell_type": "code",
   "execution_count": null,
   "metadata": {},
   "outputs": [],
   "source": [
    "# Anything upto (and including) 2016 as train and rest as test\n",
    "\n",
    "train = df[:'2016'] # includes 2016\n",
    "test = df['2017']\n",
    "\n",
    "# plot the train and test\n"
   ]
  },
  {
   "cell_type": "markdown",
   "metadata": {},
   "source": [
    "### Sklearn Cross-validation: \n",
    "https://scikit-learn.org/stable/modules/generated/sklearn.model_selection.TimeSeriesSplit.html\n",
    "\n",
    "Visuals:\n",
    "https://github.com/scikit-learn/scikit-learn/issues/14376"
   ]
  },
  {
   "cell_type": "markdown",
   "metadata": {},
   "source": [
    "## Visualizations"
   ]
  },
  {
   "cell_type": "code",
   "execution_count": null,
   "metadata": {},
   "outputs": [],
   "source": [
    "# we will do visualization on train only:\n"
   ]
  },
  {
   "cell_type": "code",
   "execution_count": null,
   "metadata": {},
   "outputs": [],
   "source": [
    "# create a series called 'y'\n",
    "\n",
    "y = train.temp\n",
    "y.head()"
   ]
  },
  {
   "cell_type": "markdown",
   "metadata": {},
   "source": [
    "### Don't consider the time series"
   ]
  },
  {
   "cell_type": "code",
   "execution_count": null,
   "metadata": {},
   "outputs": [],
   "source": [
    "# plot a histogram of temperature\n"
   ]
  },
  {
   "cell_type": "markdown",
   "metadata": {},
   "source": [
    "- by month\n",
    "- by weekday"
   ]
  },
  {
   "cell_type": "code",
   "execution_count": null,
   "metadata": {},
   "outputs": [],
   "source": [
    "y.index.month"
   ]
  },
  {
   "cell_type": "code",
   "execution_count": null,
   "metadata": {},
   "outputs": [],
   "source": [
    "train['month'] = y.index.month"
   ]
  },
  {
   "cell_type": "code",
   "execution_count": null,
   "metadata": {
    "scrolled": false
   },
   "outputs": [],
   "source": [
    "# Plot mean temperature by month (bar plot)\n",
    "\n"
   ]
  },
  {
   "cell_type": "code",
   "execution_count": null,
   "metadata": {},
   "outputs": [],
   "source": [
    "train['weekday'] = y.index.day_name()"
   ]
  },
  {
   "cell_type": "code",
   "execution_count": null,
   "metadata": {},
   "outputs": [],
   "source": [
    "# Plot mean temperature by weekday\n",
    "\n"
   ]
  },
  {
   "cell_type": "markdown",
   "metadata": {},
   "source": [
    "#### What if we want to visualize more than just the mean temperature?"
   ]
  },
  {
   "cell_type": "code",
   "execution_count": null,
   "metadata": {},
   "outputs": [],
   "source": [
    "train.groupby('weekday').describe()"
   ]
  },
  {
   "cell_type": "code",
   "execution_count": null,
   "metadata": {},
   "outputs": [],
   "source": [
    "sns.boxplot(data = train, x = 'weekday', y = 'temp')"
   ]
  },
  {
   "cell_type": "code",
   "execution_count": null,
   "metadata": {},
   "outputs": [],
   "source": [
    "# Anything interesting in the chart above?\n",
    "\n",
    "# Would the monthly boxplot look different?"
   ]
  },
  {
   "cell_type": "code",
   "execution_count": null,
   "metadata": {},
   "outputs": [],
   "source": []
  },
  {
   "cell_type": "markdown",
   "metadata": {},
   "source": [
    "### Visualize the target over time"
   ]
  },
  {
   "cell_type": "code",
   "execution_count": null,
   "metadata": {},
   "outputs": [],
   "source": [
    "y.plot();"
   ]
  },
  {
   "cell_type": "code",
   "execution_count": null,
   "metadata": {},
   "outputs": [],
   "source": [
    "y.resample('6H').mean().plot(title='6 hour average')"
   ]
  },
  {
   "cell_type": "code",
   "execution_count": null,
   "metadata": {},
   "outputs": [],
   "source": [
    "y.resample('2W').mean().plot(title='2 week average');"
   ]
  },
  {
   "cell_type": "code",
   "execution_count": null,
   "metadata": {},
   "outputs": [],
   "source": [
    "y.resample('M').mean().plot(label = 'Monthly')\n",
    "y.resample('Y').mean().plot(label = 'Yearly')\n",
    "plt.legend()"
   ]
  },
  {
   "cell_type": "code",
   "execution_count": null,
   "metadata": {},
   "outputs": [],
   "source": [
    "y.resample('M').agg(['min', 'mean', 'max']).plot()\n"
   ]
  },
  {
   "cell_type": "code",
   "execution_count": null,
   "metadata": {},
   "outputs": [],
   "source": [
    "y.plot(alpha=.2, label='Hourly')\n",
    "y.resample('D').mean().plot(alpha=.5, label='Daily')\n",
    "y.resample('W').mean().plot(alpha=.8, label='Weekly')\n",
    "y.resample('M').mean().plot(label='Montly')\n",
    "y.resample('Y').mean().plot(label='Yearly')\n",
    "plt.legend()"
   ]
  },
  {
   "cell_type": "code",
   "execution_count": null,
   "metadata": {},
   "outputs": [],
   "source": [
    "#### We can reduce noise by resampling data the data to longer frequencies.\n",
    "\n",
    "##Seasonaility to Trend\n"
   ]
  },
  {
   "cell_type": "code",
   "execution_count": null,
   "metadata": {},
   "outputs": [],
   "source": [
    "y.plot(alpha=.2, label='Hourly')\n",
    "y.resample('D').mean().rolling(3).mean().plot(alpha=.5, label='3 day')\n",
    "y.resample('D').mean().rolling(7).mean().plot(alpha=8, label='1 week')\n",
    "plt.legend()"
   ]
  },
  {
   "cell_type": "markdown",
   "metadata": {},
   "source": [
    "### Visualize change over time"
   ]
  },
  {
   "cell_type": "code",
   "execution_count": null,
   "metadata": {},
   "outputs": [],
   "source": [
    "y.resample('W').mean().diff().plot(title='Average week-to-week change in temperature')"
   ]
  },
  {
   "cell_type": "code",
   "execution_count": null,
   "metadata": {},
   "outputs": [],
   "source": [
    "y.resample('M').mean().diff().plot(title='Average month-to-month change in temperature')"
   ]
  },
  {
   "cell_type": "markdown",
   "metadata": {},
   "source": [
    "### Seasonal Plot\n",
    "- comparison of multiple years together."
   ]
  },
  {
   "cell_type": "code",
   "execution_count": null,
   "metadata": {
    "scrolled": false
   },
   "outputs": [],
   "source": [
    "# unstack is similar to pivot_table. It turns an index level into columns\n",
    "y.groupby([y.index.year, y.index.month]).mean().unstack(0).plot()"
   ]
  },
  {
   "cell_type": "markdown",
   "metadata": {},
   "source": [
    "### Seasonal Subseries Plot\n",
    "A seasonal subseries plot shows the change year-over-year within each month."
   ]
  },
  {
   "cell_type": "code",
   "execution_count": null,
   "metadata": {},
   "outputs": [],
   "source": [
    "table = y.groupby([y.index.year, y.index.month]).mean().unstack()\n",
    "table"
   ]
  },
  {
   "cell_type": "code",
   "execution_count": null,
   "metadata": {},
   "outputs": [],
   "source": [
    "fig, axs = plt.subplots(1, 12, sharey=True, sharex=True)\n",
    "for ax, (month, subset) in zip(axs, table.iteritems()):\n",
    "    subset.plot(ax=ax, title=month)\n",
    "    x_left, x_right = ax.get_xlim()\n",
    "    ax.hlines(subset.mean(), x_left, x_right, ls='--')\n",
    "    ax.set(xlabel='')\n",
    "\n",
    "fig.suptitle('Seasonal Subseries Plot') # super-title for the overall figure\n",
    "fig.subplots_adjust(wspace=0)"
   ]
  },
  {
   "cell_type": "markdown",
   "metadata": {},
   "source": [
    "#### As with the monthly box plot, the seasonal pattern is quite evident in the seasonal subseries.\n",
    "\n",
    "- Do the data exhibit a seasonal pattern?\n",
    "- What is the nature of the seasonality?\n",
    "- Is there a within-group pattern (e.g., do January and July exhibit similar patterns)?\n",
    "- Are there any outliers once seasonality has been accounted for?\n",
    "\n",
    "- Should I use box plot instead?"
   ]
  },
  {
   "cell_type": "code",
   "execution_count": null,
   "metadata": {},
   "outputs": [],
   "source": []
  },
  {
   "cell_type": "markdown",
   "metadata": {},
   "source": [
    "### What if seasonality is not that readily apparent?"
   ]
  },
  {
   "attachments": {
    "Screen%20Shot%202021-04-15%20at%203.43.52%20PM%202.png": {
     "image/png": "[encoded data removed]"
    }
   },
   "cell_type": "markdown",
   "metadata": {},
   "source": [
    "Is there a seasonality in this data?\n",
    "\n",
    "![Screen%20Shot%202021-04-15%20at%203.43.52%20PM%202.png](attachment:Screen%20Shot%202021-04-15%20at%203.43.52%20PM%202.png)"
   ]
  },
  {
   "cell_type": "markdown",
   "metadata": {},
   "source": [
    "### Lag plot"
   ]
  },
  {
   "cell_type": "code",
   "execution_count": null,
   "metadata": {},
   "outputs": [],
   "source": [
    "y.shift(-1)"
   ]
  },
  {
   "cell_type": "code",
   "execution_count": null,
   "metadata": {},
   "outputs": [],
   "source": [
    "plt.scatter(y, y.shift(-1))\n",
    "plt.xlabel('$y_t$')\n",
    "plt.ylabel('$y_{t + 1}$')\n",
    "plt.title('Lag plot with lag = 1')"
   ]
  },
  {
   "cell_type": "code",
   "execution_count": null,
   "metadata": {},
   "outputs": [],
   "source": [
    "daily = train.resample('D').mean()\n",
    "daily['temp_next_day'] = daily.temp.shift(-1)\n",
    "daily.plot.scatter(x='temp', y='temp_next_day')"
   ]
  },
  {
   "cell_type": "code",
   "execution_count": null,
   "metadata": {},
   "outputs": [],
   "source": [
    "weekly = train.resample('W').mean()\n",
    "weekly['temp_next_week'] = weekly.temp.shift(-1)\n",
    "\n",
    "weekly"
   ]
  },
  {
   "cell_type": "code",
   "execution_count": null,
   "metadata": {},
   "outputs": [],
   "source": [
    "weekly.plot.scatter(x='temp', y='temp_next_week')"
   ]
  },
  {
   "cell_type": "code",
   "execution_count": null,
   "metadata": {},
   "outputs": [],
   "source": [
    "weekly = train.resample('W').mean()\n",
    "weekly['12_weeks_out'] = weekly.temp.shift(-12)\n",
    "weekly = weekly.rename(columns={'temp': 'this_week'})\n",
    "weekly.plot.scatter(x='this_week', y='12_weeks_out')\n",
    "weekly"
   ]
  },
  {
   "cell_type": "code",
   "execution_count": null,
   "metadata": {},
   "outputs": [],
   "source": [
    "weekly = train.resample('W').mean()\n",
    "weekly['26_weeks_out'] = weekly.temp.shift(-26)\n",
    "weekly = weekly.rename(columns={'temp': 'this_week'})\n",
    "weekly.plot.scatter(x='this_week', y='26_weeks_out')\n",
    "weekly"
   ]
  },
  {
   "cell_type": "code",
   "execution_count": null,
   "metadata": {},
   "outputs": [],
   "source": [
    "# easier way. Use pd.plotting.lag_plot(series, lag):\n",
    "\n",
    "pd.plotting.lag_plot(train.temp.resample('W').mean(), lag=26)"
   ]
  },
  {
   "cell_type": "markdown",
   "metadata": {},
   "source": [
    "### Autocorrelation Plot"
   ]
  },
  {
   "cell_type": "code",
   "execution_count": null,
   "metadata": {},
   "outputs": [],
   "source": [
    "pd.plotting.autocorrelation_plot(train.temp.resample('W').mean())"
   ]
  },
  {
   "cell_type": "markdown",
   "metadata": {},
   "source": [
    "### What does autocorrelation plot look like for white noise"
   ]
  },
  {
   "cell_type": "code",
   "execution_count": null,
   "metadata": {},
   "outputs": [],
   "source": [
    "grid = np.linspace(0, 720, 500)\n",
    "noise = np.random.rand(500)\n",
    "# result_curve =  noise\n",
    "plt.plot(grid, noise)"
   ]
  },
  {
   "cell_type": "code",
   "execution_count": null,
   "metadata": {},
   "outputs": [],
   "source": [
    "from statsmodels.tsa import stattools\n",
    "\n",
    "acf_result = stattools.acf(noise)\n",
    "plt.plot(acf_result)\n",
    "plt.axhline(y=0,linestyle='--')\n",
    "plt.axhline(y=-1.96/np.sqrt(len(noise)),linestyle='--')\n",
    "plt.axhline(y=1.96/np.sqrt(len(noise)),linestyle='--')"
   ]
  },
  {
   "cell_type": "markdown",
   "metadata": {},
   "source": [
    "### Another example of Autocorrelation"
   ]
  },
  {
   "attachments": {
    "Screen%20Shot%202021-04-15%20at%203.43.52%20PM.png": {
     "image/png": "[encoded data removed]"
    }
   },
   "cell_type": "markdown",
   "metadata": {},
   "source": [
    "![Screen%20Shot%202021-04-15%20at%203.43.52%20PM.png](attachment:Screen%20Shot%202021-04-15%20at%203.43.52%20PM.png)"
   ]
  },
  {
   "cell_type": "markdown",
   "metadata": {},
   "source": [
    "#### Visuals seasonal subseries plot and the box plot assume that the seasonal periods are known. However, if the seasonality period is not readlity apparent , the autocorrelation plot can help. \n",
    "#### If there is significant seasonality, the autocorrelation plot should show spikes at lags equal to the period."
   ]
  },
  {
   "cell_type": "markdown",
   "metadata": {},
   "source": [
    "### Seasonal Decomposition\n",
    "\n",
    "$$ y = S + T + \\epsilon $$\n",
    "\n",
    "Seasonality + Trend + Residual"
   ]
  },
  {
   "cell_type": "code",
   "execution_count": null,
   "metadata": {},
   "outputs": [],
   "source": [
    "y = train.temp.resample('W').mean()\n",
    "\n",
    "result = sm.tsa.seasonal_decompose(y)\n",
    "result"
   ]
  },
  {
   "cell_type": "code",
   "execution_count": null,
   "metadata": {},
   "outputs": [],
   "source": [
    "result.seasonal"
   ]
  },
  {
   "cell_type": "code",
   "execution_count": null,
   "metadata": {},
   "outputs": [],
   "source": [
    "# Make a dataframe:\n",
    "\n",
    "decomposition = pd.DataFrame({\n",
    "    'y': result.observed,\n",
    "    'trend': result.trend,\n",
    "    'seasonal': result.seasonal,\n",
    "    'resid': result.resid,\n",
    "})\n",
    "decomposition.head()"
   ]
  },
  {
   "cell_type": "code",
   "execution_count": null,
   "metadata": {},
   "outputs": [],
   "source": [
    "decomposition.iloc[:, 1:].plot()"
   ]
  },
  {
   "cell_type": "code",
   "execution_count": null,
   "metadata": {
    "scrolled": false
   },
   "outputs": [],
   "source": [
    "# the value returned from seasonal_decompose can itself be plotted:\n",
    "result.plot()\n",
    "None"
   ]
  },
  {
   "cell_type": "markdown",
   "metadata": {},
   "source": [
    "### Additive or multiplicative seasonality?\n",
    "\n",
    "\n",
    "The additive model is most appropriate if the magnitude of the seasonal fluctuations or the variation around the trend-cycle does not vary with the level of the time series. When the variation in the seasonal pattern, or the variation around the trend-cycle, appears to be proportional to the level of the time series, then a multiplicative model is more appropriate. \n",
    "\n",
    "\n",
    "https://kourentzes.com/forecasting/2014/11/09/additive-and-multiplicative-seasonality/"
   ]
  },
  {
   "cell_type": "markdown",
   "metadata": {},
   "source": [
    "### Categories over time"
   ]
  },
  {
   "cell_type": "code",
   "execution_count": null,
   "metadata": {},
   "outputs": [],
   "source": [
    "train = train.resample('D').mean()\n",
    "train.head()"
   ]
  },
  {
   "cell_type": "code",
   "execution_count": null,
   "metadata": {},
   "outputs": [],
   "source": [
    "# create a categorical feature\n",
    "train['temp_bin'] = pd.qcut(train.temp, 4, labels=['cold', 'cool', 'warm', 'hot'])\n",
    "train.groupby('temp_bin').temp.mean()"
   ]
  },
  {
   "cell_type": "markdown",
   "metadata": {},
   "source": [
    "How can we visualize the temp_bin feature over time?"
   ]
  },
  {
   "cell_type": "code",
   "execution_count": null,
   "metadata": {},
   "outputs": [],
   "source": [
    "train.head()"
   ]
  },
  {
   "cell_type": "code",
   "execution_count": null,
   "metadata": {},
   "outputs": [],
   "source": [
    "(train.groupby('temp_bin')\n",
    " .resample('M')\n",
    " .size() # like COUNT(*)\n",
    " .unstack(0) # turns an index level into columns\n",
    " .fillna(0)\n",
    " .astype(int)\n",
    " .apply(lambda row: row / row.sum(), axis=1) # raw nums to % of the row\n",
    " .plot.area()\n",
    ")\n",
    "plt.ylabel('% of days in the month')"
   ]
  },
  {
   "cell_type": "code",
   "execution_count": null,
   "metadata": {},
   "outputs": [],
   "source": [
    "ax = (train['2015':'2016']\n",
    " .groupby('temp_bin')\n",
    " .resample('M')\n",
    " .size()\n",
    " .unstack(0)\n",
    " .plot.bar(stacked=True, width=.9, ec='black')\n",
    ")"
   ]
  },
  {
   "cell_type": "code",
   "execution_count": null,
   "metadata": {},
   "outputs": [],
   "source": [
    "# take the existing labels, convert them to Timestamps, and then reformat with .strftime\n",
    "labels = [pd.to_datetime(t.get_text()).strftime('%B') for t in ax.get_xticklabels()]\n",
    "ax.set_xticklabels(labels);"
   ]
  },
  {
   "cell_type": "markdown",
   "metadata": {},
   "source": [
    "### strftime"
   ]
  },
  {
   "cell_type": "code",
   "execution_count": null,
   "metadata": {},
   "outputs": [],
   "source": [
    "ax = y.groupby(y.index.strftime('%m-%b')).mean().plot.bar()"
   ]
  },
  {
   "cell_type": "code",
   "execution_count": null,
   "metadata": {},
   "outputs": [],
   "source": [
    "ax = y.groupby(y.index.strftime('%m-%b')).mean().plot.bar()\n",
    "ax.set_xticklabels([t.get_text()[3:] for t in ax.get_xticklabels()], rotation=0);"
   ]
  },
  {
   "cell_type": "markdown",
   "metadata": {},
   "source": [
    "### Matplotlib Dates\n",
    "This will only work with plt.plot or ax.plot, not with the pandas plotting!"
   ]
  },
  {
   "cell_type": "code",
   "execution_count": null,
   "metadata": {},
   "outputs": [],
   "source": [
    "# how can i customize the x axis label here?\n",
    "\n",
    "y.resample('W').mean().plot()"
   ]
  },
  {
   "cell_type": "code",
   "execution_count": null,
   "metadata": {},
   "outputs": [],
   "source": [
    "from matplotlib.dates import DateFormatter\n",
    "\n",
    "fig, ax = plt.subplots()\n",
    "\n",
    "weekly = y.resample('W').mean()\n",
    "\n",
    "ax.plot(weekly.index, weekly)\n",
    "\n",
    "ax.xaxis.set_major_formatter(DateFormatter('%b %y'))"
   ]
  }
 ],
 "metadata": {
  "kernelspec": {
   "display_name": "Python 3",
   "language": "python",
   "name": "python3"
  },
  "language_info": {
   "codemirror_mode": {
    "name": "ipython",
    "version": 3
   },
   "file_extension": ".py",
   "mimetype": "text/x-python",
   "name": "python",
   "nbconvert_exporter": "python",
   "pygments_lexer": "ipython3",
   "version": "3.8.5"
  }
 },
 "nbformat": 4,
 "nbformat_minor": 4
}
